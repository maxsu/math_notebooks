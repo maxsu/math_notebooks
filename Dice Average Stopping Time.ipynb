{
 "cells": [
  {
   "cell_type": "code",
   "execution_count": 2,
   "metadata": {
    "collapsed": false
   },
   "outputs": [
    {
     "name": "stdout",
     "output_type": "stream",
     "text": [
      "Mean: 6.006315\n",
      "results: [10, 4, 26, 3, 9, 30, 1, 2, 14, 2, 10, 6, 3, 3, 2, 2, 2, 4, 2, 7, 5, 4, 4, 1, 1, 6, 4, 2, 17, 1, 6, 1, 12, 8, 3, 6, 1, 9, 1, 7, 1, 7, 3, 1, 4, 1, 15, 16, 3, 19, 9, 5, 16, 10, 10, 1, 11, 1, 3, 8, 15, 1, 1, 6, 1, 11, 9, 1, 7, 6, 10, 2, 4, 2, 4, 6, 3, 30, 3, 5, 4, 10, 5, 5, 2, 1, 1, 3, 6, 31, 4, 8, 1, 9, 1, 3, 2, 4, 8]\n"
     ]
    }
   ],
   "source": [
    "from random import randrange as throw_die\n",
    "import statistics\n",
    "\n",
    "N = 10 ** 6\n",
    "result = []\n",
    "\n",
    "# Run N trials\n",
    "for i in range(N):\n",
    "\n",
    "    # We throw at least 1 die per trial\n",
    "    throws = 1\n",
    "\n",
    "    # Throw another die if previous die is not one\n",
    "    while throw_die(1, 7) != 1:\n",
    "        throws += 1\n",
    "\n",
    "    # Trial is over. Record the number of throws\n",
    "    result.append(throws)\n",
    "\n",
    "# Tally the average\n",
    "mean = statistics.mean(result)\n",
    "\n",
    "# Report results\n",
    "print(f\"Mean: {mean}\\nresults: {result[1:100]}\")"
   ]
  },
  {
   "cell_type": "code",
   "execution_count": 0,
   "metadata": {
    "collapsed": false
   },
   "outputs": [
   ],
   "source": [
   ]
  }
 ],
 "metadata": {
  "kernelspec": {
   "display_name": "Python 3 (system-wide)",
   "language": "python",
   "metadata": {
    "cocalc": {
     "description": "Python 3 programming language",
     "priority": 100,
     "url": "https://www.python.org/"
    }
   },
   "name": "python3"
  },
  "language_info": {
   "codemirror_mode": {
    "name": "ipython",
    "version": 3
   },
   "file_extension": ".py",
   "mimetype": "text/x-python",
   "name": "python",
   "nbconvert_exporter": "python",
   "pygments_lexer": "ipython3",
   "version": "3.6.9"
  }
 },
 "nbformat": 4,
 "nbformat_minor": 0
}